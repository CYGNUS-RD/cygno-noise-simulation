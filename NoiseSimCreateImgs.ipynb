{
 "cells": [
  {
   "cell_type": "code",
   "execution_count": null,
   "metadata": {},
   "outputs": [],
   "source": [
    "!ls"
   ]
  },
  {
   "cell_type": "code",
   "execution_count": 2,
   "metadata": {},
   "outputs": [
    {
     "name": "stdout",
     "output_type": "stream",
     "text": [
      "              total        used        free      shared  buff/cache   available\r\n",
      "Mem:          15885        1110       12866         152        1908       14304\r\n",
      "Swap:             0           0           0\r\n"
     ]
    }
   ],
   "source": [
    "#!lscpu\n",
    "!free -m"
   ]
  },
  {
   "cell_type": "markdown",
   "metadata": {},
   "source": [
    "# ==============\n",
    "# START-UP CODE"
   ]
  },
  {
   "cell_type": "code",
   "execution_count": null,
   "metadata": {},
   "outputs": [],
   "source": [
    "! rm cygnus_lib.*; rm mylib.*\n",
    "! wget https://raw.githubusercontent.com/gmazzitelli/cygno/master/cygnus_lib.py\n",
    "! wget https://raw.githubusercontent.com/gmazzitelli/cygno/master/mylib.py\n",
    "import cygnus_lib as cy\n",
    "import matplotlib.pyplot as plt\n",
    "import numpy as np    \n",
    "import ROOT\n",
    "from root_numpy import hist2array\n",
    "import mylib as my\n"
   ]
  },
  {
   "cell_type": "markdown",
   "metadata": {},
   "source": [
    "# ========================================\n",
    "# CODE TO SIMULATE NOISE FROM A ECDF FILE"
   ]
  },
  {
   "cell_type": "code",
   "execution_count": null,
   "metadata": {},
   "outputs": [],
   "source": [
    "############################################################\n",
    "#functions used to simulate noise\n",
    "############################################################\n",
    "\n",
    "# created a ECDF (x,y) data\n",
    "def ecdf(data):\n",
    "  \"\"\" Compute ECDF \"\"\"\n",
    "  x = np.sort(data)\n",
    "  unique, counts = np.unique(data, return_counts=True)\n",
    "  y = np.cumsum(counts)\n",
    "  y = y / float(y[-1])\n",
    "  y = np.insert(y, 0, 0)\n",
    "  unique = np.insert(unique, 0, unique[0]-1)\n",
    "  return(unique,y)\n",
    "\n",
    "# generate simulated data using a ECDF curve (x,y)\n",
    "def clone_hist(x, y, Nclone):\n",
    "    s = np.random.uniform(0,1,Nclone)\n",
    "    idx = np.searchsorted(y, s, side='left')\n",
    "    return x[idx]"
   ]
  },
  {
   "cell_type": "code",
   "execution_count": null,
   "metadata": {},
   "outputs": [],
   "source": [
    "############################################################\n",
    "#load ecdf map and generate data\n",
    "############################################################\n",
    "import numpy as np\n",
    "\n",
    "run = 2054\n",
    "\n",
    "ecdf_map_load = []\n",
    "\n",
    "filename = str(run)+'_ecdf_map_test.npy'\n",
    "ecdf_map_load = np.load(filename,allow_pickle = True,fix_imports=True)\n",
    "\n",
    "print(\"ECDF matrix size --> \"+str(np.shape(ecdf_map_load)))"
   ]
  },
  {
   "cell_type": "code",
   "execution_count": null,
   "metadata": {},
   "outputs": [],
   "source": [
    "############################################################\n",
    "# generate simulated signal from loaded ecdf_map variable \n",
    "############################################################\n",
    "import time\n",
    "\n",
    "t0 = time.time()\n",
    "\n",
    "Nclone = 500\n",
    "Nx = np.size(ecdf_map_load, 0)\n",
    "Ny = np.size(ecdf_map_load, 1)\n",
    "#Nx = 50\n",
    "#Ny = 50\n",
    "\n",
    "print(\"ECDF matrix size --> \"+str(Nx)+\", \"+str(Ny))\n",
    "\n",
    "img_sim = np.zeros((Nclone, Nx, Ny), dtype=np.uint16)\n",
    "\n",
    "for i in range(0, Nx):\n",
    "  if i % 200 == 0:\n",
    "    print(i)\n",
    "  for j in range(0, Ny):\n",
    "    x = ecdf_map_load[i][j][0]\n",
    "    y = ecdf_map_load[i][j][1]    \n",
    "    img_sim[:,i,j] = clone_hist(x, y, Nclone)\n",
    "    \n",
    "t1 = time.time()-t0  \n",
    "print(t1)"
   ]
  },
  {
   "cell_type": "markdown",
   "metadata": {},
   "source": [
    "# ===================================\n",
    "# THE CODE BELOW IS ONLY FOR TESTING"
   ]
  },
  {
   "cell_type": "code",
   "execution_count": null,
   "metadata": {},
   "outputs": [],
   "source": [
    "################################\n",
    "#test of the ecdf_map variable\n",
    "################################\n",
    "plt.rcParams.update({'font.size': 16})\n",
    "\n",
    "import matplotlib.pyplot as plt\n",
    "\n",
    "#choose a pixel\n",
    "i = 1001\n",
    "j = 1001\n",
    "\n",
    "# plot ecdf\n",
    "plt.figure(figsize=(10, 6))\n",
    "#plot the ECDF of the chosen pixel\n",
    "plt.step(ecdf_map_load[i][j][1],ecdf_map_load[i][j][0], linewidth = 3, where = 'post', label = 'real data')\n",
    "a,b = ecdf(img_sim[:,i,j])\n",
    "plt.step(b, a, linestyle = ':', linewidth = 3, where = 'post', label = 'sim. data', color = 'orange')\n",
    "#plt.plot(ecdf_map1[i][j][0],ecdf_map[i][j][1], ':o') \n",
    "#plt.xlim(0.9, 1)\n",
    "plt.grid()\n",
    "plt.legend()\n",
    "\n",
    "\n",
    "# plot epdf\n",
    "plt.figure(figsize=(10, 6))\n",
    "plt.plot(ecdf_map_load[i][j][0][1:], np.diff(ecdf_map_load[i][j][1]), 'o', label = 'real data')\n",
    "bins = range(np.min(img_sim[:,i,j])-1,np.max(img_sim[:,i,j])+2)\n",
    "plt.hist(img_sim[:,i,j], bins=bins, density = 1, align='left', label = 'sim. data', color = 'orange')\n",
    "plt.grid()\n",
    "plt.legend()\n",
    "plt.xticks(bins)\n",
    "\n",
    "# plot simulated signal\n",
    "plt.figure(figsize=(10, 6))\n",
    "plt.plot(img_sim[:,i,j], label = 'sim. data', color = 'orange')\n",
    "plt.grid()\n",
    "plt.xlim(0,500)\n",
    "plt.legend()\n",
    "\n",
    "\n"
   ]
  },
  {
   "cell_type": "code",
   "execution_count": null,
   "metadata": {},
   "outputs": [],
   "source": [
    "################################\n",
    "#visualize simulated image\n",
    "################################\n",
    "\n",
    "evt = 1\n",
    "\n",
    "plt.figure(figsize=(10, 10))\n",
    "plt.imshow(img_sim[evt,:,:], cmap='gray', vmin=95, vmax=104)\n",
    "plt.colorbar()\n",
    "print(img_sim[evt,i,j])\n",
    "\n",
    "evt = 499\n",
    "\n",
    "plt.figure(figsize=(10, 10))\n",
    "plt.imshow(img_sim[evt,:,:], cmap='gray', vmin=95, vmax=104)\n",
    "plt.colorbar()\n",
    "print(img_sim[evt,i,j])"
   ]
  }
 ],
 "metadata": {
  "kernelspec": {
   "display_name": "Python 3",
   "language": "python",
   "name": "python3"
  },
  "language_info": {
   "codemirror_mode": {
    "name": "ipython",
    "version": 3
   },
   "file_extension": ".py",
   "mimetype": "text/x-python",
   "name": "python",
   "nbconvert_exporter": "python",
   "pygments_lexer": "ipython3",
   "version": "3.6.8"
  }
 },
 "nbformat": 4,
 "nbformat_minor": 2
}
